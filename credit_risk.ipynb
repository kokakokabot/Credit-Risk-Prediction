{
 "cells": [
  {
   "cell_type": "markdown",
   "metadata": {},
   "source": [
    "# Table of Contents\n",
    " \n",
    "1. Importing Libraries\n",
    "2. Dataset Description\n",
    "3. Importing the Dataset\n",
    "4. Data Cleaning\n",
    "5. Feature Engineering\n",
    "6. Data Splitting\n",
    "7. Model Training & Evaluation\n",
    "8. Further Evaluation of Model"
   ]
  },
  {
   "cell_type": "markdown",
   "metadata": {},
   "source": [
    "## 1. Importing Libraries"
   ]
  },
  {
   "cell_type": "code",
   "execution_count": 50,
   "metadata": {},
   "outputs": [],
   "source": [
    "# Data Processing\n",
    "import pandas as pd\n",
    "import numpy as np \n",
    "\n",
    "# visualization\n",
    "import matplotlib as mpl\n",
    "import matplotlib.pyplot as plt\n",
    "import seaborn as sns\n",
    "\n",
    "# Model Building\n",
    "from sklearn.preprocessing import OneHotEncoder\n",
    "from sklearn.model_selection import train_test_split\n",
    "from sklearn.ensemble import RandomForestClassifier\n",
    "from sklearn.metrics import accuracy_score, roc_auc_score, f1_score\n",
    "from sklearn.metrics import confusion_matrix\n"
   ]
  },
  {
   "cell_type": "markdown",
   "metadata": {},
   "source": [
    "## 2. Dataset Description\n",
    "\n",
    "- person_age - Age of the borrower applying for a loan\n",
    "- person_income - Annual income of the borrower applying for a loan\n",
    "- person_home_ownership\n",
    "    - OWN - They own a home\n",
    "    - RENT - They rent a home\n",
    "    - MORTGAGE - They have a mortgage on the home they own\n",
    "    - OTHER - Other categories of home ownership\n",
    "- person_emp_length - Employment length of borrower in years\n",
    "- loan_intent - What the borrower intends to use the loan for\n",
    "- loan_grade \n",
    "    - A - The borrower has a high creditworthiness, indicating low risk.\n",
    "    - B - The borrower is relatively low-risk, but not as creditworthy as Grade A.\n",
    "    - C - The borrower's creditworthiness is moderate.\n",
    "    - D - The borrower is considered to have higher risk compared to previous grades.\n",
    "    - E - The borrower's creditworthiness is lower, indicating a higher risk.\n",
    "    - F - The borrower poses a significant credit risk.\n",
    "    - G - The borrower's creditworthiness is the lowest, signifying the highest risk.\n",
    "- loan_amnt - The loan amount the borrower is requesting\n",
    "- loan_int_rate - The loan interest rate\n",
    "- loan_status \t\n",
    "    - 0 is non-default (The borrower paid every loan payment on time, so no default was indicated)\n",
    "    - 1 is default (The borrower failed to pay according to the agreed terms, so they defaulted on the loan)\n",
    "- loan_percent_income - Percentage of income from the loan\n",
    "- cb_person_default_on_file\n",
    "    - Y - The borrower has a histroy of defaulting on their loans\n",
    "    - N - The borrower does not have a history of defaulting on their loans\n",
    "- cb_preson_cred_hist_length - Crdit history of the borrower"
   ]
  },
  {
   "cell_type": "markdown",
   "metadata": {},
   "source": [
    "## 3. Importing the Dataset"
   ]
  },
  {
   "cell_type": "code",
   "execution_count": 51,
   "metadata": {},
   "outputs": [
    {
     "data": {
      "text/html": [
       "<div>\n",
       "<style scoped>\n",
       "    .dataframe tbody tr th:only-of-type {\n",
       "        vertical-align: middle;\n",
       "    }\n",
       "\n",
       "    .dataframe tbody tr th {\n",
       "        vertical-align: top;\n",
       "    }\n",
       "\n",
       "    .dataframe thead th {\n",
       "        text-align: right;\n",
       "    }\n",
       "</style>\n",
       "<table border=\"1\" class=\"dataframe\">\n",
       "  <thead>\n",
       "    <tr style=\"text-align: right;\">\n",
       "      <th></th>\n",
       "      <th>person_age</th>\n",
       "      <th>person_income</th>\n",
       "      <th>person_home_ownership</th>\n",
       "      <th>person_emp_length</th>\n",
       "      <th>loan_intent</th>\n",
       "      <th>loan_grade</th>\n",
       "      <th>loan_amnt</th>\n",
       "      <th>loan_int_rate</th>\n",
       "      <th>loan_status</th>\n",
       "      <th>loan_percent_income</th>\n",
       "      <th>cb_person_default_on_file</th>\n",
       "      <th>cb_person_cred_hist_length</th>\n",
       "    </tr>\n",
       "  </thead>\n",
       "  <tbody>\n",
       "    <tr>\n",
       "      <th>11772</th>\n",
       "      <td>25</td>\n",
       "      <td>75600</td>\n",
       "      <td>MORTGAGE</td>\n",
       "      <td>7.0</td>\n",
       "      <td>MEDICAL</td>\n",
       "      <td>C</td>\n",
       "      <td>15000</td>\n",
       "      <td>12.68</td>\n",
       "      <td>0</td>\n",
       "      <td>0.20</td>\n",
       "      <td>N</td>\n",
       "      <td>2</td>\n",
       "    </tr>\n",
       "    <tr>\n",
       "      <th>22773</th>\n",
       "      <td>35</td>\n",
       "      <td>58000</td>\n",
       "      <td>MORTGAGE</td>\n",
       "      <td>8.0</td>\n",
       "      <td>MEDICAL</td>\n",
       "      <td>C</td>\n",
       "      <td>6000</td>\n",
       "      <td>12.99</td>\n",
       "      <td>0</td>\n",
       "      <td>0.10</td>\n",
       "      <td>Y</td>\n",
       "      <td>8</td>\n",
       "    </tr>\n",
       "    <tr>\n",
       "      <th>31853</th>\n",
       "      <td>42</td>\n",
       "      <td>153000</td>\n",
       "      <td>MORTGAGE</td>\n",
       "      <td>7.0</td>\n",
       "      <td>EDUCATION</td>\n",
       "      <td>G</td>\n",
       "      <td>25000</td>\n",
       "      <td>20.53</td>\n",
       "      <td>1</td>\n",
       "      <td>0.16</td>\n",
       "      <td>N</td>\n",
       "      <td>14</td>\n",
       "    </tr>\n",
       "    <tr>\n",
       "      <th>23117</th>\n",
       "      <td>32</td>\n",
       "      <td>55000</td>\n",
       "      <td>RENT</td>\n",
       "      <td>0.0</td>\n",
       "      <td>PERSONAL</td>\n",
       "      <td>B</td>\n",
       "      <td>8000</td>\n",
       "      <td>10.00</td>\n",
       "      <td>0</td>\n",
       "      <td>0.15</td>\n",
       "      <td>N</td>\n",
       "      <td>9</td>\n",
       "    </tr>\n",
       "    <tr>\n",
       "      <th>16256</th>\n",
       "      <td>22</td>\n",
       "      <td>41000</td>\n",
       "      <td>OWN</td>\n",
       "      <td>0.0</td>\n",
       "      <td>PERSONAL</td>\n",
       "      <td>A</td>\n",
       "      <td>1000</td>\n",
       "      <td>6.99</td>\n",
       "      <td>0</td>\n",
       "      <td>0.02</td>\n",
       "      <td>N</td>\n",
       "      <td>2</td>\n",
       "    </tr>\n",
       "  </tbody>\n",
       "</table>\n",
       "</div>"
      ],
      "text/plain": [
       "       person_age  person_income person_home_ownership  person_emp_length  \\\n",
       "11772          25          75600              MORTGAGE                7.0   \n",
       "22773          35          58000              MORTGAGE                8.0   \n",
       "31853          42         153000              MORTGAGE                7.0   \n",
       "23117          32          55000                  RENT                0.0   \n",
       "16256          22          41000                   OWN                0.0   \n",
       "\n",
       "      loan_intent loan_grade  loan_amnt  loan_int_rate  loan_status  \\\n",
       "11772     MEDICAL          C      15000          12.68            0   \n",
       "22773     MEDICAL          C       6000          12.99            0   \n",
       "31853   EDUCATION          G      25000          20.53            1   \n",
       "23117    PERSONAL          B       8000          10.00            0   \n",
       "16256    PERSONAL          A       1000           6.99            0   \n",
       "\n",
       "       loan_percent_income cb_person_default_on_file  \\\n",
       "11772                 0.20                         N   \n",
       "22773                 0.10                         Y   \n",
       "31853                 0.16                         N   \n",
       "23117                 0.15                         N   \n",
       "16256                 0.02                         N   \n",
       "\n",
       "       cb_person_cred_hist_length  \n",
       "11772                           2  \n",
       "22773                           8  \n",
       "31853                          14  \n",
       "23117                           9  \n",
       "16256                           2  "
      ]
     },
     "execution_count": 51,
     "metadata": {},
     "output_type": "execute_result"
    }
   ],
   "source": [
    "# Reading the data and printing a sample\n",
    "\n",
    "data = pd.read_csv(\"credit_risk_dataset.csv\")\n",
    "\n",
    "data.sample(5)"
   ]
  },
  {
   "cell_type": "markdown",
   "metadata": {},
   "source": [
    "## 4. Data Cleaning"
   ]
  },
  {
   "cell_type": "code",
   "execution_count": 52,
   "metadata": {},
   "outputs": [
    {
     "data": {
      "text/plain": [
       "(person_age                       0\n",
       " person_income                    0\n",
       " person_home_ownership            0\n",
       " person_emp_length              895\n",
       " loan_intent                      0\n",
       " loan_grade                       0\n",
       " loan_amnt                        0\n",
       " loan_int_rate                 3116\n",
       " loan_status                      0\n",
       " loan_percent_income              0\n",
       " cb_person_default_on_file        0\n",
       " cb_person_cred_hist_length       0\n",
       " dtype: int64,\n",
       "          person_age  person_income  person_emp_length     loan_amnt  \\\n",
       " count  32581.000000   3.258100e+04       31686.000000  32581.000000   \n",
       " mean      27.734600   6.607485e+04           4.789686   9589.371106   \n",
       " std        6.348078   6.198312e+04           4.142630   6322.086646   \n",
       " min       20.000000   4.000000e+03           0.000000    500.000000   \n",
       " 25%       23.000000   3.850000e+04           2.000000   5000.000000   \n",
       " 50%       26.000000   5.500000e+04           4.000000   8000.000000   \n",
       " 75%       30.000000   7.920000e+04           7.000000  12200.000000   \n",
       " max      144.000000   6.000000e+06         123.000000  35000.000000   \n",
       " \n",
       "        loan_int_rate   loan_status  loan_percent_income  \\\n",
       " count   29465.000000  32581.000000         32581.000000   \n",
       " mean       11.011695      0.218164             0.170203   \n",
       " std         3.240459      0.413006             0.106782   \n",
       " min         5.420000      0.000000             0.000000   \n",
       " 25%         7.900000      0.000000             0.090000   \n",
       " 50%        10.990000      0.000000             0.150000   \n",
       " 75%        13.470000      0.000000             0.230000   \n",
       " max        23.220000      1.000000             0.830000   \n",
       " \n",
       "        cb_person_cred_hist_length  \n",
       " count                32581.000000  \n",
       " mean                     5.804211  \n",
       " std                      4.055001  \n",
       " min                      2.000000  \n",
       " 25%                      3.000000  \n",
       " 50%                      4.000000  \n",
       " 75%                      8.000000  \n",
       " max                     30.000000  )"
      ]
     },
     "execution_count": 52,
     "metadata": {},
     "output_type": "execute_result"
    }
   ],
   "source": [
    "# Checking for missing values in the dataset\n",
    "missing_values = data.isnull().sum()\n",
    "\n",
    "# Checking for outliers by describing the numerical features\n",
    "descriptive_stats = data.describe()\n",
    "\n",
    "missing_values, descriptive_stats"
   ]
  },
  {
   "cell_type": "markdown",
   "metadata": {},
   "source": [
    "## 5. Feature Engineering"
   ]
  },
  {
   "cell_type": "code",
   "execution_count": 53,
   "metadata": {},
   "outputs": [
    {
     "name": "stderr",
     "output_type": "stream",
     "text": [
      "C:\\Users\\nejra\\AppData\\Local\\Temp\\ipykernel_5384\\831663846.py:1: FutureWarning: A value is trying to be set on a copy of a DataFrame or Series through chained assignment using an inplace method.\n",
      "The behavior will change in pandas 3.0. This inplace method will never work because the intermediate object on which we are setting values always behaves as a copy.\n",
      "\n",
      "For example, when doing 'df[col].method(value, inplace=True)', try using 'df.method({col: value}, inplace=True)' or df[col] = df[col].method(value) instead, to perform the operation inplace on the original object.\n",
      "\n",
      "\n",
      "  data['person_emp_length'].fillna(data['person_emp_length'].median(), inplace=True)\n"
     ]
    },
    {
     "data": {
      "text/plain": [
       "(person_age                    0\n",
       " person_income                 0\n",
       " person_home_ownership         0\n",
       " person_emp_length             0\n",
       " loan_intent                   0\n",
       " loan_grade                    0\n",
       " loan_amnt                     0\n",
       " loan_int_rate                 0\n",
       " loan_status                   0\n",
       " loan_percent_income           0\n",
       " cb_person_default_on_file     0\n",
       " cb_person_cred_hist_length    0\n",
       " dtype: int64,\n",
       "          person_age  person_emp_length  person_income\n",
       " count  32581.000000       32581.000000   3.258100e+04\n",
       " mean      27.659433           4.727970   6.607485e+04\n",
       " std        5.916690           3.849422   6.198312e+04\n",
       " min       20.000000           0.000000   4.000000e+03\n",
       " 25%       23.000000           2.000000   3.850000e+04\n",
       " 50%       26.000000           4.000000   5.500000e+04\n",
       " 75%       30.000000           7.000000   7.920000e+04\n",
       " max       50.000000          17.000000   6.000000e+06)"
      ]
     },
     "execution_count": 53,
     "metadata": {},
     "output_type": "execute_result"
    }
   ],
   "source": [
    "data['person_emp_length'].fillna(data['person_emp_length'].median(), inplace=True)\n",
    "data['loan_int_rate'] = data.groupby('loan_grade')['loan_int_rate'].transform(lambda x: x.fillna(x.median()))\n",
    "\n",
    "# Correcting Outliers\n",
    "\n",
    "age_99th_percentile = data['person_age'].quantile(0.99)\n",
    "data['person_age'] = data['person_age'].clip(upper=age_99th_percentile)\n",
    "\n",
    "\n",
    "emp_length_99th_percentile = data['person_emp_length'].quantile(0.99)\n",
    "data['person_emp_length'] = data['person_emp_length'].clip(upper=emp_length_99th_percentile)\n",
    "\n",
    "# Check if there are any missing values left and figuring out the effect of capping outliers\n",
    "missing_values_after = data.isnull().sum()\n",
    "descriptive_stats_after = data[['person_age', 'person_emp_length', 'person_income']].describe()\n",
    "\n",
    "missing_values_after, descriptive_stats_after"
   ]
  },
  {
   "cell_type": "markdown",
   "metadata": {},
   "source": [
    "## 6. Data Splitting"
   ]
  },
  {
   "cell_type": "code",
   "execution_count": 54,
   "metadata": {},
   "outputs": [
    {
     "data": {
      "text/html": [
       "<div>\n",
       "<style scoped>\n",
       "    .dataframe tbody tr th:only-of-type {\n",
       "        vertical-align: middle;\n",
       "    }\n",
       "\n",
       "    .dataframe tbody tr th {\n",
       "        vertical-align: top;\n",
       "    }\n",
       "\n",
       "    .dataframe thead th {\n",
       "        text-align: right;\n",
       "    }\n",
       "</style>\n",
       "<table border=\"1\" class=\"dataframe\">\n",
       "  <thead>\n",
       "    <tr style=\"text-align: right;\">\n",
       "      <th></th>\n",
       "      <th>person_age</th>\n",
       "      <th>person_income</th>\n",
       "      <th>person_emp_length</th>\n",
       "      <th>loan_amnt</th>\n",
       "      <th>loan_int_rate</th>\n",
       "      <th>loan_status</th>\n",
       "      <th>loan_percent_income</th>\n",
       "      <th>cb_person_cred_hist_length</th>\n",
       "      <th>person_home_ownership_OTHER</th>\n",
       "      <th>person_home_ownership_OWN</th>\n",
       "      <th>...</th>\n",
       "      <th>loan_intent_MEDICAL</th>\n",
       "      <th>loan_intent_PERSONAL</th>\n",
       "      <th>loan_intent_VENTURE</th>\n",
       "      <th>loan_grade_B</th>\n",
       "      <th>loan_grade_C</th>\n",
       "      <th>loan_grade_D</th>\n",
       "      <th>loan_grade_E</th>\n",
       "      <th>loan_grade_F</th>\n",
       "      <th>loan_grade_G</th>\n",
       "      <th>cb_person_default_on_file_Y</th>\n",
       "    </tr>\n",
       "  </thead>\n",
       "  <tbody>\n",
       "    <tr>\n",
       "      <th>0</th>\n",
       "      <td>22</td>\n",
       "      <td>59000</td>\n",
       "      <td>17.0</td>\n",
       "      <td>35000</td>\n",
       "      <td>16.02</td>\n",
       "      <td>1</td>\n",
       "      <td>0.59</td>\n",
       "      <td>3</td>\n",
       "      <td>0.0</td>\n",
       "      <td>0.0</td>\n",
       "      <td>...</td>\n",
       "      <td>0.0</td>\n",
       "      <td>1.0</td>\n",
       "      <td>0.0</td>\n",
       "      <td>0.0</td>\n",
       "      <td>0.0</td>\n",
       "      <td>1.0</td>\n",
       "      <td>0.0</td>\n",
       "      <td>0.0</td>\n",
       "      <td>0.0</td>\n",
       "      <td>1.0</td>\n",
       "    </tr>\n",
       "    <tr>\n",
       "      <th>1</th>\n",
       "      <td>21</td>\n",
       "      <td>9600</td>\n",
       "      <td>5.0</td>\n",
       "      <td>1000</td>\n",
       "      <td>11.14</td>\n",
       "      <td>0</td>\n",
       "      <td>0.10</td>\n",
       "      <td>2</td>\n",
       "      <td>0.0</td>\n",
       "      <td>1.0</td>\n",
       "      <td>...</td>\n",
       "      <td>0.0</td>\n",
       "      <td>0.0</td>\n",
       "      <td>0.0</td>\n",
       "      <td>1.0</td>\n",
       "      <td>0.0</td>\n",
       "      <td>0.0</td>\n",
       "      <td>0.0</td>\n",
       "      <td>0.0</td>\n",
       "      <td>0.0</td>\n",
       "      <td>0.0</td>\n",
       "    </tr>\n",
       "    <tr>\n",
       "      <th>2</th>\n",
       "      <td>25</td>\n",
       "      <td>9600</td>\n",
       "      <td>1.0</td>\n",
       "      <td>5500</td>\n",
       "      <td>12.87</td>\n",
       "      <td>1</td>\n",
       "      <td>0.57</td>\n",
       "      <td>3</td>\n",
       "      <td>0.0</td>\n",
       "      <td>0.0</td>\n",
       "      <td>...</td>\n",
       "      <td>1.0</td>\n",
       "      <td>0.0</td>\n",
       "      <td>0.0</td>\n",
       "      <td>0.0</td>\n",
       "      <td>1.0</td>\n",
       "      <td>0.0</td>\n",
       "      <td>0.0</td>\n",
       "      <td>0.0</td>\n",
       "      <td>0.0</td>\n",
       "      <td>0.0</td>\n",
       "    </tr>\n",
       "    <tr>\n",
       "      <th>3</th>\n",
       "      <td>23</td>\n",
       "      <td>65500</td>\n",
       "      <td>4.0</td>\n",
       "      <td>35000</td>\n",
       "      <td>15.23</td>\n",
       "      <td>1</td>\n",
       "      <td>0.53</td>\n",
       "      <td>2</td>\n",
       "      <td>0.0</td>\n",
       "      <td>0.0</td>\n",
       "      <td>...</td>\n",
       "      <td>1.0</td>\n",
       "      <td>0.0</td>\n",
       "      <td>0.0</td>\n",
       "      <td>0.0</td>\n",
       "      <td>1.0</td>\n",
       "      <td>0.0</td>\n",
       "      <td>0.0</td>\n",
       "      <td>0.0</td>\n",
       "      <td>0.0</td>\n",
       "      <td>0.0</td>\n",
       "    </tr>\n",
       "    <tr>\n",
       "      <th>4</th>\n",
       "      <td>24</td>\n",
       "      <td>54400</td>\n",
       "      <td>8.0</td>\n",
       "      <td>35000</td>\n",
       "      <td>14.27</td>\n",
       "      <td>1</td>\n",
       "      <td>0.55</td>\n",
       "      <td>4</td>\n",
       "      <td>0.0</td>\n",
       "      <td>0.0</td>\n",
       "      <td>...</td>\n",
       "      <td>1.0</td>\n",
       "      <td>0.0</td>\n",
       "      <td>0.0</td>\n",
       "      <td>0.0</td>\n",
       "      <td>1.0</td>\n",
       "      <td>0.0</td>\n",
       "      <td>0.0</td>\n",
       "      <td>0.0</td>\n",
       "      <td>0.0</td>\n",
       "      <td>1.0</td>\n",
       "    </tr>\n",
       "  </tbody>\n",
       "</table>\n",
       "<p>5 rows × 23 columns</p>\n",
       "</div>"
      ],
      "text/plain": [
       "   person_age  person_income  person_emp_length  loan_amnt  loan_int_rate  \\\n",
       "0          22          59000               17.0      35000          16.02   \n",
       "1          21           9600                5.0       1000          11.14   \n",
       "2          25           9600                1.0       5500          12.87   \n",
       "3          23          65500                4.0      35000          15.23   \n",
       "4          24          54400                8.0      35000          14.27   \n",
       "\n",
       "   loan_status  loan_percent_income  cb_person_cred_hist_length  \\\n",
       "0            1                 0.59                           3   \n",
       "1            0                 0.10                           2   \n",
       "2            1                 0.57                           3   \n",
       "3            1                 0.53                           2   \n",
       "4            1                 0.55                           4   \n",
       "\n",
       "   person_home_ownership_OTHER  person_home_ownership_OWN  ...  \\\n",
       "0                          0.0                        0.0  ...   \n",
       "1                          0.0                        1.0  ...   \n",
       "2                          0.0                        0.0  ...   \n",
       "3                          0.0                        0.0  ...   \n",
       "4                          0.0                        0.0  ...   \n",
       "\n",
       "   loan_intent_MEDICAL  loan_intent_PERSONAL  loan_intent_VENTURE  \\\n",
       "0                  0.0                   1.0                  0.0   \n",
       "1                  0.0                   0.0                  0.0   \n",
       "2                  1.0                   0.0                  0.0   \n",
       "3                  1.0                   0.0                  0.0   \n",
       "4                  1.0                   0.0                  0.0   \n",
       "\n",
       "   loan_grade_B  loan_grade_C  loan_grade_D  loan_grade_E  loan_grade_F  \\\n",
       "0           0.0           0.0           1.0           0.0           0.0   \n",
       "1           1.0           0.0           0.0           0.0           0.0   \n",
       "2           0.0           1.0           0.0           0.0           0.0   \n",
       "3           0.0           1.0           0.0           0.0           0.0   \n",
       "4           0.0           1.0           0.0           0.0           0.0   \n",
       "\n",
       "   loan_grade_G  cb_person_default_on_file_Y  \n",
       "0           0.0                          1.0  \n",
       "1           0.0                          0.0  \n",
       "2           0.0                          0.0  \n",
       "3           0.0                          0.0  \n",
       "4           0.0                          1.0  \n",
       "\n",
       "[5 rows x 23 columns]"
      ]
     },
     "execution_count": 54,
     "metadata": {},
     "output_type": "execute_result"
    }
   ],
   "source": [
    "# Selecting categorical variables \n",
    "categorical_vars = ['person_home_ownership', 'loan_intent', 'loan_grade', 'cb_person_default_on_file']\n",
    "\n",
    "# Encoding categorical variables\n",
    "encoder = OneHotEncoder(drop='first')\n",
    "encoded_features = pd.DataFrame(encoder.fit_transform(data[categorical_vars]).toarray(),\n",
    "                                columns=encoder.get_feature_names_out(categorical_vars))\n",
    "\n",
    "# Dropping original categorical variables from the dataset\n",
    "data.drop(categorical_vars, axis=1, inplace=True)\n",
    "\n",
    "# Concatenating the encoded features with the original dataset\n",
    "credit_risk_data_encoded = pd.concat([data, encoded_features], axis=1)\n",
    "\n",
    "# Displaying the first few rows of the updated dataset\n",
    "credit_risk_data_encoded.head()"
   ]
  },
  {
   "cell_type": "markdown",
   "metadata": {},
   "source": [
    "## 7. Model Training & Evaluation\n",
    "\n",
    "Choosing the Random Forest model for the credit risk assessment task is a strategic decision driven by its ability to handle complex, non-linear relationships and its robust performance on imbalanced datasets, typical of credit risk scenarios."
   ]
  },
  {
   "cell_type": "code",
   "execution_count": 55,
   "metadata": {},
   "outputs": [
    {
     "data": {
      "text/plain": [
       "((26064, 22), (6517, 22), (26064,), (6517,))"
      ]
     },
     "execution_count": 55,
     "metadata": {},
     "output_type": "execute_result"
    }
   ],
   "source": [
    "X = credit_risk_data_encoded.drop('loan_status', axis=1)\n",
    "y = credit_risk_data_encoded['loan_status']\n",
    "\n",
    "# Splitting the dataset into training and testing sets\n",
    "X_train, X_test, y_train, y_test = train_test_split(X, y, test_size=0.2, random_state=42)\n",
    "\n",
    "# Checking the shape of the training and testing sets\n",
    "X_train.shape, X_test.shape, y_train.shape, y_test.shape"
   ]
  },
  {
   "cell_type": "code",
   "execution_count": 56,
   "metadata": {},
   "outputs": [],
   "source": [
    "random_forest = RandomForestClassifier(random_state=42)\n",
    "\n",
    "# Training the model on the training set\n",
    "random_forest.fit(X_train, y_train)\n",
    "\n",
    "# Predicting on the test set\n",
    "y_pred_rf = random_forest.predict(X_test)\n",
    "y_pred_proba_rf = random_forest.predict_proba(X_test)[:, 1]"
   ]
  },
  {
   "cell_type": "code",
   "execution_count": 57,
   "metadata": {},
   "outputs": [
    {
     "name": "stdout",
     "output_type": "stream",
     "text": [
      "Accuracy: 0.9293\n",
      "ROC AUC Score: 0.9338\n",
      "F1 Score: 0.8191\n"
     ]
    }
   ],
   "source": [
    "# Evaluating the Random Forest model\n",
    "accuracy_rf = accuracy_score(y_test, y_pred_rf)\n",
    "roc_auc_rf = roc_auc_score(y_test, y_pred_proba_rf)\n",
    "f1_score_rf = f1_score(y_test, y_pred_rf)\n",
    "\n",
    "print(f\"Accuracy: {accuracy_rf:.4f}\")\n",
    "print(f\"ROC AUC Score: {roc_auc_rf:.4f}\")\n",
    "print(f\"F1 Score: {f1_score_rf:.4f}\")"
   ]
  },
  {
   "cell_type": "markdown",
   "metadata": {},
   "source": [
    "#### Interpreting the Results\n",
    "Accuracy: Gives you the proportion of total predictions (default and non-default) the model got right.\n",
    "\n",
    "ROC AUC Score: Tells you how well the model is able to distinguish between defaulting and non-defaulting loans. Higher values indicate better performance.\n",
    "\n",
    "F1 Score: A high F1 score is crucial in imbalanced datasets and indicates a balanced recall and precision, meaning the model is effectively identifying the majority of true positives while keeping false positives low."
   ]
  },
  {
   "cell_type": "markdown",
   "metadata": {},
   "source": [
    "## 8. Further Evaluation of Model"
   ]
  },
  {
   "cell_type": "markdown",
   "metadata": {},
   "source": [
    "#### Confusion Matrix\n",
    "The confusion matrix is invaluable for understanding the model's performance in detail, especially for imbalanced datasets common in credit risk modeling. It shows not just the instances where the model was correct (true positives and true negatives) but also where it made mistakes (false positives and false negatives). This differentiation is crucial for credit risk models because the costs associated with false positives (wrongly predicting default) and false negatives (failing to predict a default) can vary significantly. By examining the confusion matrix, stakeholders can assess the model's practical utility and risk management effectiveness."
   ]
  },
  {
   "cell_type": "code",
   "execution_count": 58,
   "metadata": {},
   "outputs": [
    {
     "data": {
      "image/png": "[encoded data removed]",
      "text/plain": [
       "<Figure size 640x480 with 2 Axes>"
      ]
     },
     "metadata": {},
     "output_type": "display_data"
    }
   ],
   "source": [
    "cm = confusion_matrix(y_test, y_pred_rf)\n",
    "sns.heatmap(cm, annot=True, fmt=\"d\", cmap=\"Blues\")\n",
    "plt.xlabel('Predicted')\n",
    "plt.ylabel('Actual')\n",
    "plt.title('Confusion Matrix')\n",
    "plt.show()"
   ]
  },
  {
   "cell_type": "markdown",
   "metadata": {},
   "source": [
    "#### Feature Importance \n",
    "\n",
    "Knowing which features most strongly influence the model's predictions can provide actionable insights, especially in credit risk assessment where understanding the factors that contribute to risk is as important as the prediction itself. Feature importance can guide risk management strategies, policy adjustments, and further data collection efforts. It helps in focusing on the most relevant factors that influence loan default risk, potentially informing more targeted interventions or adjustments to lending criteria."
   ]
  },
  {
   "cell_type": "code",
   "execution_count": 59,
   "metadata": {},
   "outputs": [
    {
     "data": {
      "image/png": "[encoded data removed]",
      "text/plain": [
       "<Figure size 640x480 with 1 Axes>"
      ]
     },
     "metadata": {},
     "output_type": "display_data"
    }
   ],
   "source": [
    "feature_importances = pd.Series(random_forest.feature_importances_, index=X.columns)\n",
    "feature_importances.nlargest(10).plot(kind='barh')\n",
    "plt.title('Top 10 Important Features')\n",
    "plt.show()"
   ]
  }
 ],
 "metadata": {
  "kernelspec": {
   "display_name": "Python 3",
   "language": "python",
   "name": "python3"
  },
  "language_info": {
   "codemirror_mode": {
    "name": "ipython",
    "version": 3
   },
   "file_extension": ".py",
   "mimetype": "text/x-python",
   "name": "python",
   "nbconvert_exporter": "python",
   "pygments_lexer": "ipython3",
   "version": "3.11.2"
  }
 },
 "nbformat": 4,
 "nbformat_minor": 2
}
